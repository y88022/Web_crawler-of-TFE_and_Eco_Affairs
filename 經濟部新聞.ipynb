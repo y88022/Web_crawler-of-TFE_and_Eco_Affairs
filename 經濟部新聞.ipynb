{
 "cells": [
  {
   "cell_type": "code",
   "execution_count": 2,
   "metadata": {},
   "outputs": [],
   "source": [
    "import requests\n",
    "res = requests.get('https://www.moea.gov.tw/MNS/populace/news/News.aspx?kind=1&menu_id=40&history=y')\n",
    "#res.text"
   ]
  },
  {
   "cell_type": "code",
   "execution_count": null,
   "metadata": {},
   "outputs": [],
   "source": [
    "from selenium import webdriver as wb\n",
    "import re\n",
    "import time\n",
    "import random\n",
    "import pandas as pd\n",
    "from bs4 import BeautifulSoup\n",
    "import requests\n",
    "\n",
    "options = wb.ChromeOptions()    #設定webdriver的選項\n",
    "options.add_experimental_option('excludeSwitches', [\"enable-automation\"])  #在選項中加入\" 開發者模式\" \n",
    "browser=wb.Chrome(options=options)   #在webdriver中加入選項 \n",
    "browser.get(\"https://www.moea.gov.tw/MNS/populace/news/News.aspx?kind=1&menu_id=40&history=y\")  #中華民國經濟部網址\n"
   ]
  },
  {
   "cell_type": "code",
   "execution_count": null,
   "metadata": {},
   "outputs": [],
   "source": [
    "#設定一個定義處理重複把網址變成soup\n",
    "def make_soup(url_link):\n",
    "    response = requests.get(url_link)\n",
    "    soup = BeautifulSoup(response.text, 'lxml')\n",
    "    return soup"
   ]
  },
  {
   "cell_type": "code",
   "execution_count": null,
   "metadata": {},
   "outputs": [],
   "source": [
    "#抓取目標網站1000筆資料\n",
    "content_data_lst = [ ]\n",
    "title_lst = [ ] \n",
    "time_lst = [ ]\n",
    "count = 0\n",
    "\n",
    "\n",
    "while 1:\n",
    "    #抓取當頁10個標題連結\n",
    "    soup = BeautifulSoup(browser.page_source, 'lxml')\n",
    "    #解析網頁\n",
    "    link = soup.select('a[id^= holderContent_grdNews_lnkTitle] ')\n",
    "    #發現網頁有規律故抓取後面並去掉 '' . ''\n",
    "    domain = 'https://www.moea.gov.tw/MNS/populace'\n",
    "        \n",
    "    for ele in link:\n",
    "        complete_link = domain + ele.get('href').strip(' . ')    \n",
    "        source = make_soup(complete_link)       #運用前面連結 每抓取一次就把抓到的連結做一次湯\n",
    "\n",
    "        source_ans = source.find_all('div',{'class':\"div-left-info\"})\n",
    "        for i in source_ans:\n",
    "            source_ans_s = i.text\n",
    "            clear = source_ans_s.replace('\\n','')\n",
    "            source_clear = re.sub('\\r','',clear)  \n",
    "\n",
    "        content_data_lst.append(source_clear)     #使用 content_data_lst 存取每個標題下的內文\n",
    "\n",
    "        title = source.find_all('div',{'class':\"div-info-title\"})\n",
    "        for j in title:\n",
    "            title_s = j.text\n",
    "            clears = title_s.replace('\\n','')\n",
    "            title_clear = re.sub('\\r','',clears)\n",
    "        title_lst.append(title_clear)      #使用 title_lst 抓取 每篇標題\n",
    "\n",
    "        times = source.find_all('div',{'class': \"div-begin-date\"})\n",
    "        for k in times:\n",
    "            times_s = k.text\n",
    "            clearss = times_s.replace('\\n','')\n",
    "            times_clear = re.sub('\\r','',clearss)\n",
    "\n",
    "        time_lst.append(times_clear)  #使用time_lst 抓取 每篇發文時間\n",
    "\n",
    "    #抓完10筆資料點擊下一頁\n",
    "    submit_ele = browser.find_element_by_xpath('//*[@id=\"holderContent_grdNews_uctlPages_dltPage_btnNext\"]')\n",
    "    submit_ele.click()\n",
    "    #設定抓取時間\n",
    "    #time.sleep(random.randint(1,2))\n",
    "\n",
    "    count += 1\n",
    "    if count == 100:\n",
    "        break\n"
   ]
  },
  {
   "cell_type": "code",
   "execution_count": null,
   "metadata": {},
   "outputs": [],
   "source": [
    "ans = list(zip( title_lst, time_lst,content_data_lst,))"
   ]
  },
  {
   "cell_type": "code",
   "execution_count": null,
   "metadata": {},
   "outputs": [],
   "source": [
    "df = pd.DataFrame(ans, columns = ['標題', '時間','內容'])\n",
    "df"
   ]
  },
  {
   "cell_type": "code",
   "execution_count": null,
   "metadata": {},
   "outputs": [],
   "source": []
  }
 ],
 "metadata": {
  "kernelspec": {
   "display_name": "Python 3",
   "language": "python",
   "name": "python3"
  },
  "language_info": {
   "codemirror_mode": {
    "name": "ipython",
    "version": 3
   },
   "file_extension": ".py",
   "mimetype": "text/x-python",
   "name": "python",
   "nbconvert_exporter": "python",
   "pygments_lexer": "ipython3",
   "version": "3.7.3"
  }
 },
 "nbformat": 4,
 "nbformat_minor": 2
}
