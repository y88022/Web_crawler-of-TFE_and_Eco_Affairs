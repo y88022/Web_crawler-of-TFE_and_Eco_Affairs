{
 "cells": [
  {
   "cell_type": "code",
   "execution_count": 5,
   "metadata": {},
   "outputs": [],
   "source": [
    "def web_spider(browser):\n",
    "    page_str = browser.page_source   #獲得源碼\n",
    "    pattern = \"<tr bgcolor=\\\"ivory\\\"[\\s\\S]*?</tr>\"  \n",
    "    data_list = re.findall( pattern, page_str)   #依照pattern 獲取字串，存入list \n",
    "    ans = []\n",
    "    try:\n",
    "        pattern2 = \"<td align=\\\"right\\\" class=\\\"12bk\\\">[\\s\\S]*?</td>\"\n",
    "        answer_list = re.findall(pattern2, data_list[0])  \n",
    "        for i in range(4):\n",
    "            ans.append(int(answer_list[i].split(\"<td align=\\\"right\\\" class=\\\"12bk\\\">\")[1].split(\"</td>\")[0]) )  #切出目標字串\n",
    "        ans.append(page_str.split(\"<h3 align=\\\"left\\\">日期：\")[1].split(\"</h3>\")[0])\n",
    "    except:\n",
    "        ans = [ ]\n",
    "    return ans"
   ]
  },
  {
   "cell_type": "code",
   "execution_count": 10,
   "metadata": {
    "scrolled": false
   },
   "outputs": [
    {
     "name": "stdout",
     "output_type": "stream",
     "text": [
      "要幾頁？ 3\n"
     ]
    },
    {
     "data": {
      "text/html": [
       "<div>\n",
       "<style scoped>\n",
       "    .dataframe tbody tr th:only-of-type {\n",
       "        vertical-align: middle;\n",
       "    }\n",
       "\n",
       "    .dataframe tbody tr th {\n",
       "        vertical-align: top;\n",
       "    }\n",
       "\n",
       "    .dataframe thead th {\n",
       "        text-align: right;\n",
       "    }\n",
       "</style>\n",
       "<table border=\"1\" class=\"dataframe\">\n",
       "  <thead>\n",
       "    <tr style=\"text-align: right;\">\n",
       "      <th></th>\n",
       "      <th>開盤價</th>\n",
       "      <th>最高價</th>\n",
       "      <th>最低價</th>\n",
       "      <th>收盤價</th>\n",
       "      <th>date</th>\n",
       "    </tr>\n",
       "  </thead>\n",
       "  <tbody>\n",
       "    <tr>\n",
       "      <th>0</th>\n",
       "      <td>9500</td>\n",
       "      <td>9530</td>\n",
       "      <td>9422</td>\n",
       "      <td>9464</td>\n",
       "      <td>2020/04/06</td>\n",
       "    </tr>\n",
       "    <tr>\n",
       "      <th>1</th>\n",
       "      <td>9630</td>\n",
       "      <td>9665</td>\n",
       "      <td>9551</td>\n",
       "      <td>9575</td>\n",
       "      <td>2020/04/01</td>\n",
       "    </tr>\n",
       "    <tr>\n",
       "      <th>2</th>\n",
       "      <td>9533</td>\n",
       "      <td>9680</td>\n",
       "      <td>9450</td>\n",
       "      <td>9654</td>\n",
       "      <td>2020/03/31</td>\n",
       "    </tr>\n",
       "  </tbody>\n",
       "</table>\n",
       "</div>"
      ],
      "text/plain": [
       "    開盤價   最高價   最低價   收盤價        date\n",
       "0  9500  9530  9422  9464  2020/04/06\n",
       "1  9630  9665  9551  9575  2020/04/01\n",
       "2  9533  9680  9450  9654  2020/03/31"
      ]
     },
     "execution_count": 10,
     "metadata": {},
     "output_type": "execute_result"
    }
   ],
   "source": [
    "from selenium import webdriver as wb\n",
    "import re\n",
    "import time\n",
    "import random\n",
    "import pandas as pd\n",
    "from pandas import DataFrame\n",
    "\n",
    "options = wb.ChromeOptions()    #設定webdriver的選項\n",
    "options.add_experimental_option('excludeSwitches', [\"enable-automation\"])  #在選項中加入\" 開發者模式\" \n",
    "browser = wb.Chrome(options = options)   #在webdriver中加入選項 \n",
    "browser.get(\"https://www.taifex.com.tw/cht/3/futDailyMarketReport\")  #台指期網址\n",
    "pages = int(input(\"要幾頁？ \"))\n",
    "total = [ ]\n",
    "\n",
    "while(len(total) != pages):\n",
    "    target_list = web_spider(browser)\n",
    "    \n",
    "    if( target_list == [ ]):\n",
    "        submit_elem = browser.find_element_by_xpath('//*[@id=\"button3\"]')\n",
    "        submit_elem.click()\n",
    "        pass\n",
    "    \n",
    "    else:\n",
    "        total.append(target_list)\n",
    "        submit_elem = browser.find_element_by_xpath('//*[@id=\"button3\"]')\n",
    "        submit_elem.click()\n",
    "    time.sleep(random.randint(0,2))\n",
    "answer_df = DataFrame(total, columns = [\"開盤價\",\"最高價\",\"最低價\",\"收盤價\",\"date\"])\n",
    "answer_df"
   ]
  },
  {
   "cell_type": "code",
   "execution_count": 11,
   "metadata": {},
   "outputs": [
    {
     "data": {
      "text/html": [
       "<div>\n",
       "<style scoped>\n",
       "    .dataframe tbody tr th:only-of-type {\n",
       "        vertical-align: middle;\n",
       "    }\n",
       "\n",
       "    .dataframe tbody tr th {\n",
       "        vertical-align: top;\n",
       "    }\n",
       "\n",
       "    .dataframe thead th {\n",
       "        text-align: right;\n",
       "    }\n",
       "</style>\n",
       "<table border=\"1\" class=\"dataframe\">\n",
       "  <thead>\n",
       "    <tr style=\"text-align: right;\">\n",
       "      <th></th>\n",
       "      <th>開盤價</th>\n",
       "      <th>最高價</th>\n",
       "      <th>最低價</th>\n",
       "      <th>收盤價</th>\n",
       "      <th>date</th>\n",
       "    </tr>\n",
       "  </thead>\n",
       "  <tbody>\n",
       "    <tr>\n",
       "      <th>0</th>\n",
       "      <td>9500</td>\n",
       "      <td>9530</td>\n",
       "      <td>9422</td>\n",
       "      <td>9464</td>\n",
       "      <td>2020/04/06</td>\n",
       "    </tr>\n",
       "    <tr>\n",
       "      <th>1</th>\n",
       "      <td>9630</td>\n",
       "      <td>9665</td>\n",
       "      <td>9551</td>\n",
       "      <td>9575</td>\n",
       "      <td>2020/04/01</td>\n",
       "    </tr>\n",
       "    <tr>\n",
       "      <th>2</th>\n",
       "      <td>9533</td>\n",
       "      <td>9680</td>\n",
       "      <td>9450</td>\n",
       "      <td>9654</td>\n",
       "      <td>2020/03/31</td>\n",
       "    </tr>\n",
       "  </tbody>\n",
       "</table>\n",
       "</div>"
      ],
      "text/plain": [
       "    開盤價   最高價   最低價   收盤價        date\n",
       "0  9500  9530  9422  9464  2020/04/06\n",
       "1  9630  9665  9551  9575  2020/04/01\n",
       "2  9533  9680  9450  9654  2020/03/31"
      ]
     },
     "execution_count": 11,
     "metadata": {},
     "output_type": "execute_result"
    }
   ],
   "source": [
    "answer_df = DataFrame(total, columns = [\"開盤價\",\"最高價\",\"最低價\",\"收盤價\",\"date\"])\n",
    "answer_df"
   ]
  },
  {
   "cell_type": "code",
   "execution_count": 154,
   "metadata": {},
   "outputs": [],
   "source": [
    "#file_path = \"./tfx3.xlsx\"\n",
    "#writer = pd.ExcelWriter(file_path)\n",
    "#answer_df.to_excel(writer,'Sheet1',encoding='utf-8')\n",
    "#writer.save()"
   ]
  },
  {
   "cell_type": "code",
   "execution_count": null,
   "metadata": {},
   "outputs": [],
   "source": []
  }
 ],
 "metadata": {
  "kernelspec": {
   "display_name": "Python 3",
   "language": "python",
   "name": "python3"
  },
  "language_info": {
   "codemirror_mode": {
    "name": "ipython",
    "version": 3
   },
   "file_extension": ".py",
   "mimetype": "text/x-python",
   "name": "python",
   "nbconvert_exporter": "python",
   "pygments_lexer": "ipython3",
   "version": "3.7.3"
  }
 },
 "nbformat": 4,
 "nbformat_minor": 2
}
